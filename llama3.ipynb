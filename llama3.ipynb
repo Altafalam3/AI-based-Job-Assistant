{
 "cells": [
  {
   "cell_type": "code",
   "execution_count": 1,
   "id": "0eccd20e",
   "metadata": {},
   "outputs": [],
   "source": [
    "from langchain_groq import ChatGroq\n",
    "import os"
   ]
  },
  {
   "cell_type": "code",
   "execution_count": 2,
   "id": "c16ff50e",
   "metadata": {},
   "outputs": [
    {
     "name": "stdout",
     "output_type": "stream",
     "text": [
      "The Groq API was free until the end of 2022. In 2023, Groq changed its pricing model. However, they also mention that 'Developers and Researchers can still use the GroqChipCloud for pennies, thanks to our free tier and affordable billing.'\n",
      "\n",
      "It seems they are still offering a free tier for limited usage but do not provide a clear 'free till' date.\n"
     ]
    }
   ],
   "source": [
    "llm = ChatGroq(\n",
    "    # temperature=0, \n",
    "    groq_api_key=os.getenv(\"GROQ_API_KEY\"), \n",
    "    model_name=\"llama-3.1-70b-versatile\",\n",
    "    temperature=1, \n",
    "\n",
    ")\n",
    "response = llm.invoke(\"till when groq  api will be free\")\n",
    "print(response.content)"
   ]
  },
  {
   "cell_type": "code",
   "execution_count": 3,
   "id": "90d33612",
   "metadata": {},
   "outputs": [
    {
     "name": "stderr",
     "output_type": "stream",
     "text": [
      "USER_AGENT environment variable not set, consider setting it to identify your requests.\n"
     ]
    },
    {
     "name": "stdout",
     "output_type": "stream",
     "text": [
      "Parallel Wireless - Trainee, StackTrainee, StackPune301-Engineering – 301-Engineering /Intern /On-siteApply for this jobPeople come to work at Parallel Wireless because we are building the future of telecom. They stay, because they are challenged and driven by an incredible product and team.  We take pride in our commitment to employee development, and our culture fosters an atmosphere of empowerment, trust, respect, and communication. Learn more about our mission, vision and values.   What you need : Preferred Telecommunication or Computer science graduate with knowledge in C, C++ and Python.Year of passing out: 2023 / 24What you will doWork on infrastructure project and will help in lab and setups.Parallel Wireless is the leading U.S.-based company challenging the world’s legacy vendors with the industry’s only unified ALL G (5G/4G/3G/2G) software-enabled OpenRAN solutions. Its cloud-native OpenRAN and network architectures redefine network economics for global mobile operators in both coverage and capacity deployments, while also paving the way to 5G. Through open collaboration with the OpenRAN ecosystem partners, Parallel Wireless has created the world’s first and largest fully-compliant OpenRAN ecosystem that is capable of delivering next generation wireless infrastructure at a dramatically lower cost, ensuring more equal access to 5G across the globe. The company’s OpenRAN portfolio is designed to help customers modernize their networks, reduce deployment costs and complexity, increase operational efficiency, enable interoperability, find new revenue streams, and start deploying multi-vendor 5G networks today. The company’s customers include over 60 global mobile operators, as well as private and public industries and governments that use their software-defined network portfolio to reimagine their networks. Parallel Wireless's innovation and excellence in multi-technology, open virtualized RAN solutions have been recognized with 65+ industry awards. Please visit www.parallelwireless.com for more information. Parallel Wireless embraces diversity and equality of opportunity. We are committed to building inclusive and diverse teams representing all backgrounds, with a wide range of perspectives, and empowering industry-leading skills. We welcome and consider applications to join our team from all qualified candidates, regardless of their characteristics. We comply with all applicable laws and regulations on non-discrimination in employment (and recruitment), as well as work authorization and employment eligibility verification requirements. Parallel Wireless does not accept unsolicited resumes or applications from agencies or individuals. Please do not forward resumes to our jobs alias, Parallel Wireless employees or any other company location. Parallel Wireless is not responsible for any fees related to unsolicited resumes/applications.Apply for this jobParallel Wireless Home PageJobs powered by \n"
     ]
    }
   ],
   "source": [
    "from langchain_community.document_loaders import WebBaseLoader\n",
    "\n",
    "loader = WebBaseLoader(\"https://jobs.lever.co/parallelwireless/d3f16e94-5398-46fa-b9cd-982a2d0e0a60/\")\n",
    "page_data = loader.load().pop().page_content\n",
    "print(page_data)"
   ]
  },
  {
   "cell_type": "code",
   "execution_count": 4,
   "id": "85c89a57",
   "metadata": {},
   "outputs": [
    {
     "name": "stdout",
     "output_type": "stream",
     "text": [
      "<class 'str'>\n",
      "[\n",
      "  {\n",
      "    \"role\": \"Trainee\",\n",
      "    \"experience\": \"0 years (2023/24 passouts)\",\n",
      "    \"skills\": \"C, C++, Python, Computer Science or Telecommunication\",\n",
      "    \"description\": \"Work on infrastructure project and help in lab and setups.\"\n",
      "  }\n",
      "]\n"
     ]
    }
   ],
   "source": [
    "from langchain_core.prompts import PromptTemplate\n",
    "\n",
    "prompt_extract = PromptTemplate.from_template(\n",
    "        \"\"\"\n",
    "        ### SCRAPED TEXT FROM WEBSITE:\n",
    "        {page_data}\n",
    "        ### INSTRUCTION:\n",
    "        The scraped text is from the career's page of a website.\n",
    "        Your job is to extract the job postings and return them in JSON format containing the \n",
    "        following keys: `role`, `experience`, `skills` and `description`.\n",
    "        Only return the valid JSON.\n",
    "        ### VALID JSON (NO PREAMBLE):    \n",
    "        \"\"\"\n",
    ")\n",
    "\n",
    "chain_extract = prompt_extract | llm \n",
    "res = chain_extract.invoke(input={'page_data':page_data})\n",
    "print(type(res.content))\n",
    "print(res.content)"
   ]
  },
  {
   "cell_type": "code",
   "execution_count": 5,
   "id": "5415fd54",
   "metadata": {},
   "outputs": [
    {
     "data": {
      "text/plain": [
       "[{'role': 'Trainee',\n",
       "  'experience': '0 years (2023/24 passouts)',\n",
       "  'skills': 'C, C++, Python, Computer Science or Telecommunication',\n",
       "  'description': 'Work on infrastructure project and help in lab and setups.'}]"
      ]
     },
     "execution_count": 5,
     "metadata": {},
     "output_type": "execute_result"
    }
   ],
   "source": [
    "from langchain_core.output_parsers import JsonOutputParser\n",
    "\n",
    "json_parser = JsonOutputParser()\n",
    "json_res = json_parser.parse(res.content)\n",
    "json_res"
   ]
  },
  {
   "cell_type": "code",
   "execution_count": 6,
   "id": "39961ed6",
   "metadata": {},
   "outputs": [
    {
     "data": {
      "text/plain": [
       "list"
      ]
     },
     "execution_count": 6,
     "metadata": {},
     "output_type": "execute_result"
    }
   ],
   "source": [
    "type(json_res)"
   ]
  },
  {
   "cell_type": "code",
   "execution_count": 7,
   "id": "1ccfd720",
   "metadata": {
    "scrolled": false
   },
   "outputs": [
    {
     "name": "stdout",
     "output_type": "stream",
     "text": [
      "{'role': 'Trainee', 'experience': '0 years (2023/24 passouts)', 'skills': 'C, C++, Python, Computer Science or Telecommunication', 'description': 'Work on infrastructure project and help in lab and setups.'}\n"
     ]
    },
    {
     "data": {
      "text/plain": [
       "'C, C++, Python, Computer Science or Telecommunication'"
      ]
     },
     "execution_count": 7,
     "metadata": {},
     "output_type": "execute_result"
    }
   ],
   "source": [
    "job = json_res[0]\n",
    "print(job)\n",
    "job['skills']"
   ]
  },
  {
   "cell_type": "code",
   "execution_count": 8,
   "id": "8bd36844",
   "metadata": {},
   "outputs": [
    {
     "data": {
      "text/plain": [
       "{'role': 'Trainee',\n",
       " 'experience': '0 years (2023/24 passouts)',\n",
       " 'skills': 'C, C++, Python, Computer Science or Telecommunication',\n",
       " 'description': 'Work on infrastructure project and help in lab and setups.'}"
      ]
     },
     "execution_count": 8,
     "metadata": {},
     "output_type": "execute_result"
    }
   ],
   "source": [
    "job"
   ]
  }
 ],
 "metadata": {
  "kernelspec": {
   "display_name": "Python 3 (ipykernel)",
   "language": "python",
   "name": "python3"
  },
  "language_info": {
   "codemirror_mode": {
    "name": "ipython",
    "version": 3
   },
   "file_extension": ".py",
   "mimetype": "text/x-python",
   "name": "python",
   "nbconvert_exporter": "python",
   "pygments_lexer": "ipython3",
   "version": "3.11.6"
  }
 },
 "nbformat": 4,
 "nbformat_minor": 5
}
